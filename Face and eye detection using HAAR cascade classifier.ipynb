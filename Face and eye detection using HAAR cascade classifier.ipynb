{
 "cells": [
  {
   "cell_type": "code",
   "execution_count": 1,
   "metadata": {},
   "outputs": [],
   "source": [
    "import numpy as np\n",
    "import cv2"
   ]
  },
  {
   "cell_type": "code",
   "execution_count": 2,
   "metadata": {},
   "outputs": [],
   "source": [
    "import warnings\n",
    "warnings.filterwarnings('ignore')"
   ]
  },
  {
   "cell_type": "markdown",
   "metadata": {},
   "source": [
    "## HAAR cascade classifier is used to detect where the face is and where the eye is ; it is primarily used to detect face and eye \n",
    "It is uses to see various features like Edge features, line features, four-rectangle features etc., within a particular face, these are stored in xml links. (car,eye,frontalface,fullbody also videos in which ppl are walking or moving vehicles)"
   ]
  },
  {
   "cell_type": "code",
   "execution_count": 4,
   "metadata": {},
   "outputs": [],
   "source": [
    "import numpy as np\n",
    "import cv2\n",
    "\n",
    "# We point OpenCV's CascadeClassifier function to where our \n",
    "# classifier (XML file format) is stored\n",
    "face_classifier = cv2.CascadeClassifier('C:/Users/Bhargav Sarma/Downloads/Computer-Vision-Tutorial-master/Haarcascades/haarcascade_frontalface_default.xml')\n",
    "\n",
    "# Load our image then convert it to grayscale\n",
    "image = cv2.imread('C:/Users/Bhargav Sarma/Downloads/Computer-Vision-Tutorial-master/image_examples/Trump.jpg')\n",
    "gray = cv2.cvtColor(image, cv2.COLOR_BGR2GRAY)\n",
    "faces = face_classifier.detectMultiScale(gray, 1.3, 5)\n",
    "if faces is ():\n",
    "    print(\"No faces found\")\n",
    "for (x,y,w,h) in faces:\n",
    "    cv2.rectangle(image, (x,y), (x+w,y+h), (127,0,255), 2)\n",
    "    cv2.imshow('Face Detection', image)\n",
    "    cv2.waitKey(0)\n",
    "    \n",
    "cv2.destroyAllWindows()"
   ]
  },
  {
   "cell_type": "markdown",
   "metadata": {},
   "source": [
    "# Combine face and eye detection"
   ]
  },
  {
   "cell_type": "code",
   "execution_count": 9,
   "metadata": {},
   "outputs": [],
   "source": [
    "eye_classifier=cv2.CascadeClassifier('C:/Users/Bhargav Sarma/Downloads/Computer-Vision-Tutorial-master/Haarcascades/haarcascade_eye.xml')\n",
    "img=cv2.imread('C:/Users/Bhargav Sarma/Downloads/Computer-Vision-Tutorial-master/image_examples/NaMo.jpg')\n",
    "gray=cv2.cvtColor(img,cv2.COLOR_BGR2GRAY)\n",
    "faces = face_classifier.detectMultiScale(gray, 1.3, 5) # to find face\n",
    "if faces is ():\n",
    "    print(\"No faces found\")\n",
    "for (x,y,w,h) in faces:\n",
    "    cv2.rectangle(img, (x,y), (x+w,y+h), (127,0,255),2) # after finding face draw a rectangle and crop the face\n",
    "    cv2.imshow('img',img)\n",
    "    cv2.waitKey(0) # First detect face, then crop the face using below 2 line of code to get the face\n",
    "    roi_gray=gray[y:y+h,x:x+w]\n",
    "    roi_color=gray[y:y+h,x:x+w] #get image details\n",
    "    eyes=eye_classifier.detectMultiScale(roi_gray)#create eyes feature and detect eyes in face\n",
    "    for (ex,ey,ew,eh) in eyes:\n",
    "        cv2.rectangle(roi_color,(ex,ey),(ex+ew,ey+eh),(255,255,0),2)\n",
    "        cv2.imshow('img',img)\n",
    "        cv2.waitKey(0)\n",
    "    \n",
    "cv2.destroyAllWindows()\n",
    "    "
   ]
  },
  {
   "cell_type": "code",
   "execution_count": null,
   "metadata": {},
   "outputs": [],
   "source": []
  },
  {
   "cell_type": "code",
   "execution_count": null,
   "metadata": {},
   "outputs": [],
   "source": []
  }
 ],
 "metadata": {
  "kernelspec": {
   "display_name": "Python 3",
   "language": "python",
   "name": "python3"
  },
  "language_info": {
   "codemirror_mode": {
    "name": "ipython",
    "version": 3
   },
   "file_extension": ".py",
   "mimetype": "text/x-python",
   "name": "python",
   "nbconvert_exporter": "python",
   "pygments_lexer": "ipython3",
   "version": "3.8.5"
  }
 },
 "nbformat": 4,
 "nbformat_minor": 4
}
